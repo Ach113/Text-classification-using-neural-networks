{
  "nbformat": 4,
  "nbformat_minor": 0,
  "metadata": {
    "colab": {
      "name": "review_classifier.ipynb",
      "version": "0.3.2",
      "provenance": [],
      "collapsed_sections": [],
      "include_colab_link": true
    },
    "kernelspec": {
      "name": "python3",
      "display_name": "Python 3"
    }
  },
  "cells": [
    {
      "cell_type": "markdown",
      "metadata": {
        "id": "view-in-github",
        "colab_type": "text"
      },
      "source": [
        "<a href=\"https://colab.research.google.com/github/Ach113/Text-classification-using-neural-networks/blob/master/review_classifier.ipynb\" target=\"_parent\"><img src=\"https://colab.research.google.com/assets/colab-badge.svg\" alt=\"Open In Colab\"/></a>"
      ]
    },
    {
      "metadata": {
        "id": "dp3tTQpAuVkU",
        "colab_type": "code",
        "colab": {}
      },
      "cell_type": "code",
      "source": [
        "from nltk.stem.snowball import SnowballStemmer\n",
        "import string\n",
        "\n",
        "def format_text(f):\n",
        "    all_text = f.read()\n",
        "\n",
        "    words = \"\"\n",
        "    if len(all_text) > 1:\n",
        "        # removing punctuation\n",
        "        exclude = set(string.punctuation)\n",
        "        text_string = ''.join(ch for ch in all_text if ch not in exclude)\n",
        "\n",
        "        from nltk.tokenize import word_tokenize\n",
        "        # tokenizing string into words\n",
        "        words = word_tokenize(text_string)\n",
        "        stemmer = SnowballStemmer('english')\n",
        "        text = []\n",
        "        # replacing words with their stems\n",
        "        for word in words:\n",
        "            text.append(stemmer.stem(word))\n",
        "        # detokenizing the words\n",
        "        text = \"\".join([\" \"+i if not i.startswith(\"'\") and i not in string.punctuation else i for i in text]).strip()\n",
        "\n",
        "        return text"
      ],
      "execution_count": 0,
      "outputs": []
    },
    {
      "metadata": {
        "id": "bWQCOD53ubcV",
        "colab_type": "code",
        "colab": {}
      },
      "cell_type": "code",
      "source": [
        "import os\n",
        "import numpy as np\n",
        "import tensorflow as tf"
      ],
      "execution_count": 0,
      "outputs": []
    },
    {
      "metadata": {
        "id": "cES6GvXGwmZg",
        "colab_type": "code",
        "colab": {}
      },
      "cell_type": "code",
      "source": [
        "import nltk\n",
        "nltk.download('punkt')"
      ],
      "execution_count": 0,
      "outputs": []
    },
    {
      "metadata": {
        "id": "raWtqCyzuiyN",
        "colab_type": "code",
        "colab": {}
      },
      "cell_type": "code",
      "source": [
        "path = '/content/Data'\n",
        "labels = ['neg', 'pos']\n",
        "\n",
        "X = []\n",
        "y = []\n",
        "\n",
        "# count the procecced files and set limit to their amount\n",
        "i = 0\n",
        "limit = 5000\n",
        "\n",
        "for label in labels:\n",
        "  abs_path = os.path.join(path, label)\n",
        "  for file in os.listdir(abs_path):\n",
        "    if i==limit:\n",
        "      break\n",
        "    f = open(os.path.join(abs_path, file), 'r')\n",
        "    # call function that formats the text by removing punctuation and stemming\n",
        "    F = format_text(f)\n",
        "    X.append(F)\n",
        "    print('Extracting text #', i+1)\n",
        "    i += 1\n",
        "    if label == 'neg':\n",
        "      y.append(1)\n",
        "    elif label == 'pos':\n",
        "      y.append(0)\n",
        "  i = 0\n",
        "print('Finished!')"
      ],
      "execution_count": 0,
      "outputs": []
    },
    {
      "metadata": {
        "id": "4kilLw1GMlZM",
        "colab_type": "code",
        "colab": {}
      },
      "cell_type": "code",
      "source": [
        "# divide data into train/test parts\n",
        "from sklearn.model_selection import train_test_split\n",
        "\n",
        "x_train, x_test, y_train, y_test = train_test_split(X, y, shuffle = True)"
      ],
      "execution_count": 0,
      "outputs": []
    },
    {
      "metadata": {
        "id": "yspHBuVKxZrV",
        "colab_type": "code",
        "colab": {}
      },
      "cell_type": "code",
      "source": [
        "# turn text data into numbers via vectorization\n",
        "from sklearn.feature_extraction.text import TfidfVectorizer\n",
        "\n",
        "vectorizer = TfidfVectorizer(sublinear_tf = True, max_df = 0.5, stop_words = 'english')\n",
        "x_train = vectorizer.fit_transform(x_train).toarray()\n",
        "x_test = vectorizer.transform(x_test).toarray()"
      ],
      "execution_count": 0,
      "outputs": []
    },
    {
      "metadata": {
        "id": "XpYC5TNAOHiD",
        "colab_type": "code",
        "colab": {}
      },
      "cell_type": "code",
      "source": [
        "# normalization\n",
        "\n",
        "x_train = tf.keras.utils.normalize(x_train)\n",
        "x_test = tf.keras.utils.normalize(x_test)\n",
        "y_train = np.array(y_train)"
      ],
      "execution_count": 0,
      "outputs": []
    },
    {
      "metadata": {
        "id": "w84El_dH0TwV",
        "colab_type": "code",
        "colab": {
          "base_uri": "https://localhost:8080/",
          "height": 34
        },
        "outputId": "1bfc0235-1d49-4d29-ecf4-97cbd57dbf16"
      },
      "cell_type": "code",
      "source": [
        "# Naive Bayes ML classifier for comparison\n",
        "from sklearn.naive_bayes import GaussianNB\n",
        "\n",
        "clf = GaussianNB()\n",
        "clf.fit(x_train, y_train)\n",
        "pred = clf.predict(x_test)\n",
        "from sklearn.metrics import accuracy_score\n",
        "score = accuracy_score(pred, y_test)\n",
        "print('Accuracy score: ', score)"
      ],
      "execution_count": 41,
      "outputs": [
        {
          "output_type": "stream",
          "text": [
            "Accuracy score:  0.6756\n"
          ],
          "name": "stdout"
        }
      ]
    },
    {
      "metadata": {
        "id": "lzpIoBIoaK-4",
        "colab_type": "code",
        "colab": {}
      },
      "cell_type": "code",
      "source": [
        "from keras.models import Sequential\n",
        "from keras import layers"
      ],
      "execution_count": 0,
      "outputs": []
    },
    {
      "metadata": {
        "id": "2HcRmlw7PKB8",
        "colab_type": "code",
        "colab": {}
      },
      "cell_type": "code",
      "source": [
        "# setting up the keras model\n",
        "\n",
        "model = Sequential()\n",
        "shape = x_train.shape[1]\n",
        "\n",
        "model.add(layers.Dense(10, input_dim=shape, activation='relu'))\n",
        "model.add(layers.Dense(1, activation='sigmoid'))\n",
        "\n",
        "model.compile(loss='binary_crossentropy', optimizer='adam', metrics=['accuracy'])\n",
        "\n",
        "model.fit(x_train, y_train, epochs = 10)"
      ],
      "execution_count": 0,
      "outputs": []
    },
    {
      "metadata": {
        "id": "cWJBoS5caUiG",
        "colab_type": "code",
        "colab": {}
      },
      "cell_type": "code",
      "source": [
        "# evaluating loss and accuracy\n",
        "loss, accuracy = model.evaluate(x_test, np.array(y_test))\n",
        "print(round(loss, 4), str(round(accuracy, 4)*100) + '%')"
      ],
      "execution_count": 0,
      "outputs": []
    }
  ]
}